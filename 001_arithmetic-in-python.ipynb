{
 "cells": [
  {
   "cell_type": "markdown",
   "metadata": {},
   "source": [
    "# I. Numbers, Truncation and Babylonians: Arithmetic in Python\n",
    "\n",
    "## Basic Arithmetic\n",
    "\n",
    "Pyhon can perform basic arithmetic operations:\n",
    "- *Addition*: $a+b$ is written `a + b`.\n",
    "- *Subtraction*: $a-b$ is written `a - b`.\n",
    "- *Multiplication*: $a\\times b$ is written `a * b`.\n",
    "- *Division*: $a\\div b$ is written `a / b`.\n",
    "- *Exponentiation*: $a^b$ is written `a ** b` &mdash; **not** `a ^ b`!\n",
    "- *Remainder*: $a\\bmod b$ is written `a % b`.\n",
    "- *Absolute value* function: $|a|$ is written `abs(a)`.\n",
    "\n",
    "**Example:** Calculate $1+6$."
   ]
  },
  {
   "cell_type": "code",
   "execution_count": null,
   "metadata": {},
   "outputs": [],
   "source": []
  },
  {
   "cell_type": "markdown",
   "metadata": {},
   "source": [
    "**Example:** Calculate $3-5$."
   ]
  },
  {
   "cell_type": "code",
   "execution_count": null,
   "metadata": {},
   "outputs": [],
   "source": []
  },
  {
   "cell_type": "markdown",
   "metadata": {},
   "source": [
    "**Example:** Calculate $7\\times 3$."
   ]
  },
  {
   "cell_type": "code",
   "execution_count": null,
   "metadata": {},
   "outputs": [],
   "source": []
  },
  {
   "cell_type": "markdown",
   "metadata": {},
   "source": [
    "**Example:** Calculate $12\\div 4$."
   ]
  },
  {
   "cell_type": "code",
   "execution_count": null,
   "metadata": {},
   "outputs": [],
   "source": []
  },
  {
   "cell_type": "markdown",
   "metadata": {},
   "source": [
    "Note that division returns a decimal number, not an integer! This is a feature of Python 3; division used to work differently in Python 2. Always check you have the right version."
   ]
  },
  {
   "cell_type": "code",
   "execution_count": null,
   "metadata": {},
   "outputs": [],
   "source": []
  },
  {
   "cell_type": "markdown",
   "metadata": {},
   "source": [
    "In programming, the representation of a decimal number is called a floating-point number &mdash; `float` for short. An integer is something different &mdash; an `int`."
   ]
  },
  {
   "cell_type": "code",
   "execution_count": null,
   "metadata": {},
   "outputs": [],
   "source": []
  },
  {
   "cell_type": "code",
   "execution_count": null,
   "metadata": {},
   "outputs": [],
   "source": []
  },
  {
   "cell_type": "markdown",
   "metadata": {},
   "source": [
    "Most arithmetic in python works indistinguishably for floats and ints."
   ]
  },
  {
   "cell_type": "code",
   "execution_count": null,
   "metadata": {},
   "outputs": [],
   "source": []
  },
  {
   "cell_type": "code",
   "execution_count": null,
   "metadata": {},
   "outputs": [],
   "source": []
  },
  {
   "cell_type": "code",
   "execution_count": null,
   "metadata": {},
   "outputs": [],
   "source": []
  },
  {
   "cell_type": "code",
   "execution_count": null,
   "metadata": {},
   "outputs": [],
   "source": []
  },
  {
   "cell_type": "markdown",
   "metadata": {},
   "source": [
    "Python can also perform integer division:\n",
    "$\\lfloor a\\div b\\rfloor$ is written `a // b`. This always returns an `int`."
   ]
  },
  {
   "cell_type": "markdown",
   "metadata": {},
   "source": [
    "**Example:** Calculate $\\lfloor 12\\div 4 \\rfloor$."
   ]
  },
  {
   "cell_type": "code",
   "execution_count": null,
   "metadata": {},
   "outputs": [],
   "source": []
  },
  {
   "cell_type": "markdown",
   "metadata": {},
   "source": [
    "**Example:** Calculate $\\lfloor 13\\div 4 \\rfloor$."
   ]
  },
  {
   "cell_type": "code",
   "execution_count": null,
   "metadata": {},
   "outputs": [],
   "source": []
  },
  {
   "cell_type": "markdown",
   "metadata": {},
   "source": [
    "**Example:** Calculate $2^3$ &mdash; using `**`, **not** `^`."
   ]
  },
  {
   "cell_type": "code",
   "execution_count": null,
   "metadata": {},
   "outputs": [],
   "source": []
  },
  {
   "cell_type": "code",
   "execution_count": null,
   "metadata": {},
   "outputs": [],
   "source": []
  },
  {
   "cell_type": "markdown",
   "metadata": {},
   "source": [
    "**Example:** Calculate $13\\bmod 4$."
   ]
  },
  {
   "cell_type": "code",
   "execution_count": null,
   "metadata": {},
   "outputs": [],
   "source": []
  },
  {
   "cell_type": "markdown",
   "metadata": {},
   "source": [
    "**Example:** Calculate $|-3|$."
   ]
  },
  {
   "cell_type": "code",
   "execution_count": null,
   "metadata": {},
   "outputs": [],
   "source": []
  },
  {
   "cell_type": "markdown",
   "metadata": {},
   "source": [
    "### Order of Operations\n",
    "\n",
    "The order of operations in python is the usual:\n",
    "1. Exponentiation.\n",
    "1. Multiplication/division.\n",
    "1. Addition/subtraction.\n",
    "\n",
    "**Example:** Calculate $1+2\\times 3^2$."
   ]
  },
  {
   "cell_type": "code",
   "execution_count": null,
   "metadata": {},
   "outputs": [],
   "source": []
  },
  {
   "cell_type": "markdown",
   "metadata": {},
   "source": [
    "Parentheses can be used to alter the order of execution.\n",
    "\n",
    "**Example:** $1+2\\times 3^2$ is the same as $1+(2\\times 3^2)$, but $(1+2)\\times 3^2$ is the same as $3^3$."
   ]
  },
  {
   "cell_type": "code",
   "execution_count": null,
   "metadata": {},
   "outputs": [],
   "source": []
  },
  {
   "cell_type": "code",
   "execution_count": null,
   "metadata": {},
   "outputs": [],
   "source": []
  },
  {
   "cell_type": "code",
   "execution_count": null,
   "metadata": {},
   "outputs": [],
   "source": []
  },
  {
   "cell_type": "markdown",
   "metadata": {},
   "source": [
    "## Arithmetic from Modules\n",
    "\n",
    "We can use *modules* to increase Python's functionality.\n",
    "\n",
    "### The `math` Module\n",
    "\n",
    "Modules are not available by default. Before we can use the `math` module, we have to *import* it. Evaluating `math` without importing the module first will throw an error &mdash; try it to see what errors look like. If you first run `import math`, the module then becomes available."
   ]
  },
  {
   "cell_type": "code",
   "execution_count": null,
   "metadata": {},
   "outputs": [],
   "source": [
    "import math"
   ]
  },
  {
   "cell_type": "code",
   "execution_count": null,
   "metadata": {},
   "outputs": [],
   "source": [
    "math"
   ]
  },
  {
   "cell_type": "markdown",
   "metadata": {},
   "source": [
    "#### Dot Notation\n",
    "\n",
    "To access a given tool of the `math` module we use the *dot notation*: `math.tool`. For instance, the `math` module includes mathematical constant $e$, which can be accessed using `math.e`."
   ]
  },
  {
   "cell_type": "code",
   "execution_count": null,
   "metadata": {},
   "outputs": [],
   "source": []
  },
  {
   "cell_type": "markdown",
   "metadata": {},
   "source": [
    "**Example:** Evaluate $\\pi$ and $\\tau$."
   ]
  },
  {
   "cell_type": "code",
   "execution_count": null,
   "metadata": {},
   "outputs": [],
   "source": []
  },
  {
   "cell_type": "code",
   "execution_count": null,
   "metadata": {},
   "outputs": [],
   "source": []
  },
  {
   "cell_type": "markdown",
   "metadata": {},
   "source": [
    "#### Power Function\n",
    "\n",
    "The `math` module includes a power function, `math.pow`:"
   ]
  },
  {
   "cell_type": "code",
   "execution_count": null,
   "metadata": {},
   "outputs": [],
   "source": []
  },
  {
   "cell_type": "markdown",
   "metadata": {},
   "source": [
    "We can use the `help` function to find out how to use `math.pow`:"
   ]
  },
  {
   "cell_type": "code",
   "execution_count": null,
   "metadata": {},
   "outputs": [],
   "source": []
  },
  {
   "cell_type": "markdown",
   "metadata": {},
   "source": [
    "**Example:** Calculate $2^3$ using `math.pow`."
   ]
  },
  {
   "cell_type": "code",
   "execution_count": null,
   "metadata": {},
   "outputs": [],
   "source": []
  },
  {
   "cell_type": "markdown",
   "metadata": {},
   "source": [
    "The `math.pow` function is not the same as the `**` operator, but the differences are only technical. For instance, `**` sometimes returns an `int`, whereas `math.pow` always returns a `float`."
   ]
  },
  {
   "cell_type": "code",
   "execution_count": null,
   "metadata": {},
   "outputs": [],
   "source": []
  },
  {
   "cell_type": "code",
   "execution_count": null,
   "metadata": {},
   "outputs": [],
   "source": []
  },
  {
   "cell_type": "markdown",
   "metadata": {},
   "source": [
    "However, both functions agree numerically."
   ]
  },
  {
   "cell_type": "code",
   "execution_count": null,
   "metadata": {},
   "outputs": [],
   "source": []
  },
  {
   "cell_type": "code",
   "execution_count": null,
   "metadata": {},
   "outputs": [],
   "source": []
  },
  {
   "cell_type": "code",
   "execution_count": null,
   "metadata": {},
   "outputs": [],
   "source": []
  },
  {
   "cell_type": "markdown",
   "metadata": {},
   "source": [
    "#### Other Useful Functions\n",
    "\n",
    "- *Square root*: `math.sqrt`.\n",
    "\n",
    "**Example:** Calculate $\\sqrt{2}$."
   ]
  },
  {
   "cell_type": "code",
   "execution_count": null,
   "metadata": {},
   "outputs": [],
   "source": []
  },
  {
   "cell_type": "markdown",
   "metadata": {},
   "source": [
    "- *Exponential*: `math.exp`.\n",
    "\n",
    "**Example:** Calculate $\\exp(0)$ and $\\exp(1)$."
   ]
  },
  {
   "cell_type": "code",
   "execution_count": null,
   "metadata": {},
   "outputs": [],
   "source": []
  },
  {
   "cell_type": "code",
   "execution_count": null,
   "metadata": {},
   "outputs": [],
   "source": []
  },
  {
   "cell_type": "markdown",
   "metadata": {},
   "source": [
    "- *Logarithm*: `math.log`.\n",
    " - In base $2$: `math.log2`.\n",
    " - In base $10$: `math.log10`.\n",
    "\n",
    "**Example:** Calculate $\\log(1)$, $\\log_2(8)$ and $\\log_{10}(100)$."
   ]
  },
  {
   "cell_type": "code",
   "execution_count": null,
   "metadata": {},
   "outputs": [],
   "source": []
  },
  {
   "cell_type": "code",
   "execution_count": null,
   "metadata": {},
   "outputs": [],
   "source": []
  },
  {
   "cell_type": "code",
   "execution_count": null,
   "metadata": {},
   "outputs": [],
   "source": []
  },
  {
   "cell_type": "markdown",
   "metadata": {},
   "source": [
    "**Example:** Check that `math.exp` and `math.log` are inverses by evaluating $\\log(\\exp(42))$ and $\\exp(\\log(42))$."
   ]
  },
  {
   "cell_type": "code",
   "execution_count": null,
   "metadata": {},
   "outputs": [],
   "source": []
  },
  {
   "cell_type": "code",
   "execution_count": null,
   "metadata": {},
   "outputs": [],
   "source": []
  },
  {
   "cell_type": "markdown",
   "metadata": {},
   "source": [
    "And so the jig is up! `math.exp(math.log(42))` does not return *exactly* 42. There is some error:"
   ]
  },
  {
   "cell_type": "code",
   "execution_count": null,
   "metadata": {},
   "outputs": [],
   "source": []
  },
  {
   "cell_type": "markdown",
   "metadata": {},
   "source": [
    "Computers cannot in general store numbers with full accuracy. A *typical* real number is irrational, which means it has an infinite, non-periodic decimal expansion. For instance:\n",
    "$$\\pi=3.1415926535897932384626433832795028841971693993751058209749445923078164062\\ldots$$\n",
    "Due to finite memory and finite processing power, computers have to truncate such numbers:"
   ]
  },
  {
   "cell_type": "code",
   "execution_count": null,
   "metadata": {},
   "outputs": [],
   "source": []
  },
  {
   "cell_type": "markdown",
   "metadata": {},
   "source": [
    "$$\\pi\\simeq 3.141592653589793.$$\n",
    "Truncation errors can appear every now and then, and you should keep an eye out of them!"
   ]
  },
  {
   "cell_type": "markdown",
   "metadata": {},
   "source": [
    "## The Babylonian Square Root\n",
    "\n",
    "The ancient Babylonians knew a pretty good method to compute square roots by hand. We are going to implement our own square root function using this method.\n",
    "\n",
    "### The Algorithm\n",
    "Suppose we want to estimate $r$, the square root of a given number $s=r^2$. The Babylonians gave us the following recipe:\n",
    "\n",
    "- Take an initial guess for $r$, call it $x_0$. \n",
    "- Compute the update $x_{n+1}$ from the previous step $x_n$ using the rule:\n",
    "$$x_{n+1}=\\frac{x_n+\\frac{s}{x_n}}{2}.$$\n",
    "- Repeat until you're bored &mdash; or until enough decimal places of $x_n$ remain the same between updates.\n",
    "\n",
    "### Is this Magic?\n",
    "Can you think of a reason why this works at all? What happens if $x_n$ is not just an estimate, but actually equal to $r$?\n",
    "\n",
    "### The Implementation\n",
    "We can do this in Python of course! We can try to compute the square root of 2. First, we need an initial guess $x_0$; $x_0=1.5$ is clearly wrong but it is close enough for a start. We need a way to store it, and we can use a *variable* for that.\n",
    "\n",
    "Executing `x0 = 1.5` will create a variable called `x0` and store the value `1.5` in it."
   ]
  },
  {
   "cell_type": "code",
   "execution_count": null,
   "metadata": {},
   "outputs": [],
   "source": []
  },
  {
   "cell_type": "markdown",
   "metadata": {},
   "source": [
    "We can now call the variable to retrieve the value."
   ]
  },
  {
   "cell_type": "code",
   "execution_count": null,
   "metadata": {},
   "outputs": [],
   "source": []
  },
  {
   "cell_type": "markdown",
   "metadata": {},
   "source": [
    "This should remind you of executing `math.pi` &mdash; there, the variable had already been created for us.\n",
    "\n",
    "We can also store $s=2$,"
   ]
  },
  {
   "cell_type": "code",
   "execution_count": null,
   "metadata": {},
   "outputs": [],
   "source": []
  },
  {
   "cell_type": "markdown",
   "metadata": {},
   "source": [
    "and, even though this is cheating, we can store the value of $r$ too and use to check our method works."
   ]
  },
  {
   "cell_type": "code",
   "execution_count": null,
   "metadata": {},
   "outputs": [],
   "source": []
  },
  {
   "cell_type": "markdown",
   "metadata": {},
   "source": [
    "We can check the value stored in the variable using the function `print` as well."
   ]
  },
  {
   "cell_type": "code",
   "execution_count": null,
   "metadata": {},
   "outputs": [],
   "source": []
  },
  {
   "cell_type": "markdown",
   "metadata": {},
   "source": [
    "The steps are clear now. $x_1$:"
   ]
  },
  {
   "cell_type": "code",
   "execution_count": null,
   "metadata": {},
   "outputs": [],
   "source": []
  },
  {
   "cell_type": "code",
   "execution_count": null,
   "metadata": {},
   "outputs": [],
   "source": []
  },
  {
   "cell_type": "markdown",
   "metadata": {},
   "source": [
    "Then, $x_2$:"
   ]
  },
  {
   "cell_type": "code",
   "execution_count": null,
   "metadata": {},
   "outputs": [],
   "source": []
  },
  {
   "cell_type": "code",
   "execution_count": null,
   "metadata": {},
   "outputs": [],
   "source": []
  },
  {
   "cell_type": "markdown",
   "metadata": {},
   "source": [
    "Then, $x_3$:"
   ]
  },
  {
   "cell_type": "code",
   "execution_count": null,
   "metadata": {},
   "outputs": [],
   "source": []
  },
  {
   "cell_type": "code",
   "execution_count": null,
   "metadata": {},
   "outputs": [],
   "source": []
  },
  {
   "cell_type": "markdown",
   "metadata": {},
   "source": [
    "### Looping\n",
    "This is clearly not optimal! We need to execute a command that can be recycled for every step. Instead of storing each $x_n$, why not have a single variable `x` that changes with each update? If we initialise the variables:"
   ]
  },
  {
   "cell_type": "code",
   "execution_count": null,
   "metadata": {},
   "outputs": [],
   "source": []
  },
  {
   "cell_type": "markdown",
   "metadata": {},
   "source": [
    "The code that repeats each time is just:"
   ]
  },
  {
   "cell_type": "code",
   "execution_count": null,
   "metadata": {},
   "outputs": [],
   "source": []
  },
  {
   "cell_type": "markdown",
   "metadata": {},
   "source": [
    "Try executing the cell above several times to see how the algorithm converges. You can also try different values of $r$.\n",
    "\n",
    "This is nice, but we would like the repetition process to be fully automatic. We need a way of telling Python to repeat some code several times. For this, we can use a `for` loop."
   ]
  },
  {
   "cell_type": "code",
   "execution_count": null,
   "metadata": {},
   "outputs": [],
   "source": [
    "for k in range(0, 3):\n",
    "    print(k)"
   ]
  },
  {
   "cell_type": "markdown",
   "metadata": {},
   "source": [
    "The code above is a `for` loop. The notation is very short and tidy, but there are several things to notice:\n",
    "- The `for` loop executes the code inside it (`print(k)`) several times.\n",
    "- The code inside the loop comes after the colon (`:`) and is **indented** with the `tab` key.\n",
    "- The function `range(0,3)` produces a list of numbers from `0` up to, but not including, `3`.\n",
    "- The variable `k` takes a different value each time the code runs. The values are determined by whatever comes after the `in` keyword.\n",
    "\n",
    "We do not need to use `range` to make a for loop; instead we can make our own list by putting numbers inside square brackets, separated by commas: `[a,b,c,d]`"
   ]
  },
  {
   "cell_type": "code",
   "execution_count": null,
   "metadata": {},
   "outputs": [],
   "source": [
    "for k in [1,2,5,14]:\n",
    "    print(k)"
   ]
  },
  {
   "cell_type": "markdown",
   "metadata": {},
   "source": [
    "Why not put the Babylonian root algorithm inside a loop? Try computing the square root of `math.pi`, using a loop that iterates $10$ times."
   ]
  },
  {
   "cell_type": "code",
   "execution_count": null,
   "metadata": {},
   "outputs": [],
   "source": []
  },
  {
   "cell_type": "markdown",
   "metadata": {},
   "source": [
    "Now try the root of `1000*math.pi`, using the same loop."
   ]
  },
  {
   "cell_type": "code",
   "execution_count": null,
   "metadata": {},
   "outputs": [],
   "source": []
  },
  {
   "cell_type": "markdown",
   "metadata": {},
   "source": [
    "We need more iterations. We will have to run the code again, this time changing the loop to `range(0,20)`."
   ]
  },
  {
   "cell_type": "code",
   "execution_count": null,
   "metadata": {},
   "outputs": [],
   "source": []
  },
  {
   "cell_type": "markdown",
   "metadata": {},
   "source": [
    "### Functions\n",
    "Having to copy and paste code all over the place is also far from ideal. Ultimately we are always running the same code, just changing the argument of the square root or the number of iterations. The rest of the code could and should be recycled.\n",
    "\n",
    "In order to recycle code, we can put it inside a function."
   ]
  },
  {
   "cell_type": "code",
   "execution_count": null,
   "metadata": {},
   "outputs": [],
   "source": [
    "def my_function():\n",
    "  print(\"This is a function\")"
   ]
  },
  {
   "cell_type": "markdown",
   "metadata": {},
   "source": [
    "This defines `my_function`. The code after the colon (`:`) is indented like in a `for` loop, and will run every time the function is called. We have only defined the function above; in order to run it, we have to call the function by executing `my_function()`."
   ]
  },
  {
   "cell_type": "code",
   "execution_count": null,
   "metadata": {},
   "outputs": [],
   "source": []
  },
  {
   "cell_type": "markdown",
   "metadata": {},
   "source": [
    "A function can take an *argument* and can also *return* a value at the end. For instance, we can write a function that doubles a number:"
   ]
  },
  {
   "cell_type": "code",
   "execution_count": null,
   "metadata": {},
   "outputs": [],
   "source": []
  },
  {
   "cell_type": "markdown",
   "metadata": {},
   "source": [
    "Try using the function to compute $2\\pi$."
   ]
  },
  {
   "cell_type": "code",
   "execution_count": null,
   "metadata": {},
   "outputs": [],
   "source": []
  },
  {
   "cell_type": "markdown",
   "metadata": {},
   "source": [
    "A function can also take more than one argument. We can write an average function:"
   ]
  },
  {
   "cell_type": "code",
   "execution_count": null,
   "metadata": {},
   "outputs": [],
   "source": []
  },
  {
   "cell_type": "markdown",
   "metadata": {},
   "source": [
    "Try to compute the average of $5$ and $7$."
   ]
  },
  {
   "cell_type": "code",
   "execution_count": null,
   "metadata": {},
   "outputs": [],
   "source": []
  },
  {
   "cell_type": "markdown",
   "metadata": {},
   "source": [
    "These examples are not very useful, but we can certainly put the Babylonian code inside a function, and we can even print the difference between `x` and `xNext` at every step."
   ]
  },
  {
   "cell_type": "code",
   "execution_count": null,
   "metadata": {},
   "outputs": [],
   "source": []
  },
  {
   "cell_type": "code",
   "execution_count": null,
   "metadata": {},
   "outputs": [],
   "source": []
  },
  {
   "cell_type": "markdown",
   "metadata": {},
   "source": [
    "### Conditionals\n",
    "Would it not be nice if we could stop the looping once the difference becomes zero?\n",
    "\n",
    "We can use a *conditional* to ask the program a question at each iteration. For instance, given a number, we can check whether it is even or odd. For this we use an `if` statement."
   ]
  },
  {
   "cell_type": "code",
   "execution_count": null,
   "metadata": {},
   "outputs": [],
   "source": [
    "x = 2\n",
    "if (x%2)==0:\n",
    "    print(\"Even\")\n",
    "else:\n",
    "    print(\"Odd\")"
   ]
  },
  {
   "cell_type": "markdown",
   "metadata": {},
   "source": [
    "The `if` statement checks whether a condition (the code after the `if` and before the `:`) is `true`. If it is `true`, it will execute the code after the `:`. If it is `false`, it will instead execute the code after `else:`. Make sure to have the correct indentation!\n",
    "\n",
    "\n",
    "Note the symbol `==`. This is different from the `=` we have used before. A double equal asks whether two expressions have exactly the same value. Running `x=5` **assigns** the value `5` to the variable `x`; running `x==5` **checks** whether the value of `x` is equal to `5`.\n",
    "\n",
    "We can use other comparatives, such as **less than** (`<`), **greater than** (`>`), **less than or equal to** (`<=`) or **greater than or equal to** (`>=`) to check if a number is positive or negative."
   ]
  },
  {
   "cell_type": "code",
   "execution_count": null,
   "metadata": {},
   "outputs": [],
   "source": [
    "x = -1\n",
    "if x<0:\n",
    "    print(\"Negative\")\n",
    "else:\n",
    "    print(\"Positive\")"
   ]
  },
  {
   "cell_type": "markdown",
   "metadata": {},
   "source": [
    "Now we are ready to rewrite `babylonianRoot`; this time the function should only take one argument, `s`. We will start the `for` loop with a large number of iterations but check whether the difference is zero at every step, and stop when it is."
   ]
  },
  {
   "cell_type": "code",
   "execution_count": null,
   "metadata": {},
   "outputs": [],
   "source": []
  },
  {
   "cell_type": "code",
   "execution_count": null,
   "metadata": {},
   "outputs": [],
   "source": []
  },
  {
   "cell_type": "code",
   "execution_count": null,
   "metadata": {},
   "outputs": [],
   "source": []
  },
  {
   "cell_type": "markdown",
   "metadata": {},
   "source": [
    "## Beyond Mesopotamia\n",
    "We now have essentially all the basic tools for computation. Any algorithm can be implemented using the tools described above.\n",
    "\n",
    "### Solving an Equation, Babylon Style!\n",
    "Here is a challenge. Write a function that returns the solution to the equation\n",
    "$$\\cos(x)=x.$$\n",
    "**Hint:** You can borrow a powerful idea from the Babylonians."
   ]
  },
  {
   "cell_type": "code",
   "execution_count": null,
   "metadata": {},
   "outputs": [],
   "source": []
  },
  {
   "cell_type": "markdown",
   "metadata": {},
   "source": [
    "If that was too easy for you, try solving this instead:$$\\sin(x)=x.$$ What goes wrong here?"
   ]
  },
  {
   "cell_type": "code",
   "execution_count": null,
   "metadata": {},
   "outputs": [],
   "source": []
  },
  {
   "cell_type": "markdown",
   "metadata": {},
   "source": [
    "### Ancient Greece\n",
    "Euclid knew a nifty algorithm to quickly find the greatest common divisor (CGD) of two positive integers $a$ and $b$; that is the largest integer $c$ such that $a\\div c$ and $b\\div c$ are both integers. You can find the algorithm everywhere, even [wikipedia](https://en.wikipedia.org/wiki/Euclidean_algorithm).\n",
    "\n",
    "Try to write your own `gcd` function. Test it against `math.gcd` to make sure it works!\n"
   ]
  },
  {
   "cell_type": "code",
   "execution_count": null,
   "metadata": {},
   "outputs": [],
   "source": []
  },
  {
   "cell_type": "code",
   "execution_count": null,
   "metadata": {},
   "outputs": [],
   "source": []
  }
 ],
 "metadata": {
  "kernelspec": {
   "display_name": "Python 3",
   "language": "python",
   "name": "python3"
  },
  "language_info": {
   "codemirror_mode": {
    "name": "ipython",
    "version": 3
   },
   "file_extension": ".py",
   "mimetype": "text/x-python",
   "name": "python",
   "nbconvert_exporter": "python",
   "pygments_lexer": "ipython3",
   "version": "3.6.7"
  }
 },
 "nbformat": 4,
 "nbformat_minor": 2
}
